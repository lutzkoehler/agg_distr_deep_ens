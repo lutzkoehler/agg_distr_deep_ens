{
 "cells": [
  {
   "cell_type": "code",
   "execution_count": 2,
   "metadata": {},
   "outputs": [],
   "source": [
    "import pickle\n",
    "import numpy as np\n",
    "import os\n",
    "import pandas as pd\n",
    "import matplotlib.pyplot as plt\n",
    "import seaborn as sns\n",
    "\n",
    "from src.results import get_panel_data, get_best_scores_table, get_scores_skills_table"
   ]
  },
  {
   "cell_type": "code",
   "execution_count": 4,
   "metadata": {},
   "outputs": [],
   "source": [
    "data_path = os.path.join(\"..\", \"..\", \"04_Experiments\", f\"Normal\")\n",
    "\n",
    "\n",
    "ens_method = \"concrete_dropout\"\n",
    "ens_method_ls = [\n",
    "    \"rand_init\",\n",
    "    \"bagging\",\n",
    "    \"batchensemble\",\n",
    "    \"bayesian\",\n",
    "    \"mc_dropout\",\n",
    "    \"variational_dropout\",\n",
    "    \"concrete_dropout\",\n",
    "]\n",
    "ens_method_labels = {\n",
    "    \"rand_init\": \"Naive\",\n",
    "    \"bagging\": \"Bagging\",\n",
    "    \"batchensemble\": \"BatchEns.\",\n",
    "    \"bayesian\": \"Bayesian\",\n",
    "    \"mc_dropout\": \"MC Dropout\",\n",
    "    \"variational_dropout\": \"Var. Dropout\",\n",
    "    \"concrete_dropout\": \"Conc. Dropout\",\n",
    "}\n",
    "dataset_ls = [\n",
    "    \"boston\",\n",
    "    \"concrete\",\n",
    "    \"energy\",\n",
    "    \"kin8nm\",\n",
    "    \"naval\",\n",
    "    \"power\",\n",
    "    \"protein\",\n",
    "    \"wine\",\n",
    "    \"yacht\",\n",
    "]\n",
    "dataset_labels = {\n",
    "    \"boston\": \"Boston Housing \\n (N=506)\",\n",
    "    \"concrete\": \"Concrete Strength \\n (N=1030)\",\n",
    "    \"energy\": \"Energy Efficiency \\n (N=768)\",\n",
    "    \"kin8nm\": \"Kin8nm \\n (N=8192)\",\n",
    "    \"naval\": \"Naval Propulsion \\n (N=11934)\",\n",
    "    \"power\": \"Power Plant \\n (N=9568)\",\n",
    "    \"protein\": \"Protein Structure \\n (N=45730)\",\n",
    "    \"wine\": \"Red Wine Quality \\n (N=1599)\",\n",
    "    \"yacht\": \"Yacht Hydrodynamics \\n (N=308)\"\n",
    "}\n",
    "agg_labels = {\n",
    "    \"lp\": r\"$LP$\",\n",
    "    \"vi\": r\"$V_0^=$\",\n",
    "    \"vi-a\": r\"$V_a^=$\",\n",
    "    \"vi-w\": r\"$V_0^w$\",\n",
    "    \"vi-aw\": r\"$V_a^w$\",\n",
    "}"
   ]
  },
  {
   "cell_type": "code",
   "execution_count": 5,
   "metadata": {},
   "outputs": [],
   "source": [
    "# Get colors\n",
    "agg_cols = sns.color_palette(\"Dark2\", 8, as_cmap=True)\n",
    "# Colors of aggregation methods\n",
    "agg_col = {\n",
    "    \"lp\": agg_cols.colors[4],  # type: ignore\n",
    "    \"vi\": agg_cols.colors[5],  # type: ignore\n",
    "    \"vi-a\": agg_cols.colors[2],  # type: ignore\n",
    "    \"vi-w\": agg_cols.colors[0],  # type: ignore\n",
    "    \"vi-aw\": agg_cols.colors[3],  # type: ignore\n",
    "    \"ens\": agg_cols.colors[7],  # type: ignore\n",
    "    \"opt\": agg_cols.colors[1],  # type: ignore\n",
    "}\n",
    "\n",
    "greens = sns.color_palette(\"Greens\", 2, as_cmap=False)\n",
    "blues = sns.color_palette(\"Blues\", 1)\n",
    "purples = sns.color_palette(\"Purples\", 1)\n",
    "reds = sns.color_palette(\"Reds\", 3)\n",
    "ens_col = {\n",
    "    \"rand_init\": greens[1], #multi_model_cols.colors[0],  # type: ignore\n",
    "    \"bagging\": greens[0], #multi_model_cols.colors[1],  # type: ignore\n",
    "    \"batchensemble\": blues[0], #multi_model_cols.colors[3],  # type: ignore\n",
    "    \"bayesian\": purples[0], #multi_model_cols.colors[8],  # type: ignore\n",
    "    \"mc_dropout\": reds[2], #dropout_cols.colors[14],  # type: ignore\n",
    "    \"variational_dropout\": reds[1], #dropout_cols.colors[16],  # type: ignore\n",
    "    \"concrete_dropout\": reds[0], #dropout_cols.colors[15],  # type: ignore\n",
    "}\n",
    "\n",
    "# KIT colors\n",
    "kit_cols_dict = {\n",
    "    \"green\": \"#00876C\",\n",
    "    \"blue\": \"#4664AA\",\n",
    "    \"black\": \"#000000\",\n",
    "    \"grey\": \"#404040\",\n",
    "}"
   ]
  },
  {
   "cell_type": "code",
   "execution_count": 6,
   "metadata": {},
   "outputs": [],
   "source": [
    "score_vec = [\"crps\", \"crpss\", \"me\", \"lgt\", \"cov\", \"a\", \"w\"]\n",
    "nn_vec = [\"drn\", \"bqn\"]\n",
    "n_ens_vec = np.arange(start=2, stop=10 + 2, step=2)\n",
    "agg_meths = [\"lp\", \"vi\", \"vi-a\", \"vi-w\", \"vi-aw\"]"
   ]
  },
  {
   "cell_type": "code",
   "execution_count": 7,
   "metadata": {},
   "outputs": [],
   "source": [
    "export = True\n",
    "save_dir = os.path.join(\"plots\", \"results\")"
   ]
  },
  {
   "attachments": {},
   "cell_type": "markdown",
   "metadata": {},
   "source": [
    "# Get learned dropout rates"
   ]
  },
  {
   "cell_type": "code",
   "execution_count": null,
   "metadata": {},
   "outputs": [],
   "source": []
  }
 ],
 "metadata": {
  "kernelspec": {
   "display_name": "master_thesis",
   "language": "python",
   "name": "python3"
  },
  "language_info": {
   "codemirror_mode": {
    "name": "ipython",
    "version": 3
   },
   "file_extension": ".py",
   "mimetype": "text/x-python",
   "name": "python",
   "nbconvert_exporter": "python",
   "pygments_lexer": "ipython3",
   "version": "3.10.6"
  },
  "orig_nbformat": 4
 },
 "nbformat": 4,
 "nbformat_minor": 2
}
