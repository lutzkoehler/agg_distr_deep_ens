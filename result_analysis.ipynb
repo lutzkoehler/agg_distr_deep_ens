{
 "cells": [
  {
   "cell_type": "code",
   "execution_count": 1,
   "metadata": {},
   "outputs": [],
   "source": [
    "import pickle\n",
    "import numpy as np\n",
    "import os\n",
    "import pandas as pd\n",
    "\n",
    "from src.results import get_panel_data, get_best_result_table"
   ]
  },
  {
   "cell_type": "code",
   "execution_count": 38,
   "metadata": {},
   "outputs": [],
   "source": [
    "ens_method = \"rand_init\"\n",
    "# dataset_ls = [\"boston\",\n",
    "#     \"concrete\",\n",
    "#     \"energy\",\n",
    "#     \"kin8nm\",\n",
    "#     \"naval\",\n",
    "#     \"power\",\n",
    "#     \"protein\",\n",
    "#     \"wine\",\n",
    "#     \"yacht\",\n",
    "# ]\n",
    "dataset_ls = [\"naval\"]#, \"wine\"]\n",
    "_datasets = [\n",
    "    \"boston\",\n",
    "    \"concrete\",\n",
    "    \"energy\",\n",
    "    \"kin8nm\",\n",
    "    \"naval\",\n",
    "    \"power\",\n",
    "    \"protein\",\n",
    "    \"wine\",\n",
    "    \"yacht\",\n",
    "]\n",
    "type = \"t2_\"\n",
    "ens_method_ls = [\n",
    "    \"rand_init\",\n",
    "    \"bagging\",\n",
    "    \"mc_dropout\",\n",
    "    \"variational_dropout\",\n",
    "    \"concrete_dropout\",\n",
    "    \"bayesian\",\n",
    "    \"batchensemble\",\n",
    "]"
   ]
  },
  {
   "cell_type": "code",
   "execution_count": 39,
   "metadata": {},
   "outputs": [],
   "source": [
    "score_vec = [\"crps\", \"crpss\", \"me\", \"lgt\", \"cov\", \"a\", \"w\"]\n",
    "nn_vec = [\"drn\", \"bqn\"]\n",
    "n_ens_vec = np.arange(start=2, stop=10 + 2, step=2)\n",
    "agg_meths = [\"lp\", \"vi\", \"vi-a\", \"vi-w\", \"vi-aw\"]"
   ]
  },
  {
   "cell_type": "code",
   "execution_count": 40,
   "metadata": {},
   "outputs": [],
   "source": [
    "data_path = os.path.join(\"..\", \"..\", \"04_Experiments\", f\"{type}Normal\")\n",
    "\n",
    "results = get_best_result_table(data_path, nn_vec, ens_method_ls, agg_meths, dataset_ls, n_ens_vec)\n"
   ]
  },
  {
   "cell_type": "code",
   "execution_count": 41,
   "metadata": {},
   "outputs": [],
   "source": [
    "drn_results = results[\"drn_results\"]\n",
    "drn_results_num = drn_results[ens_method_ls]"
   ]
  },
  {
   "cell_type": "code",
   "execution_count": 42,
   "metadata": {},
   "outputs": [
    {
     "data": {
      "text/html": [
       "<div>\n",
       "<style scoped>\n",
       "    .dataframe tbody tr th:only-of-type {\n",
       "        vertical-align: middle;\n",
       "    }\n",
       "\n",
       "    .dataframe tbody tr th {\n",
       "        vertical-align: top;\n",
       "    }\n",
       "\n",
       "    .dataframe thead th {\n",
       "        text-align: right;\n",
       "    }\n",
       "</style>\n",
       "<table border=\"1\" class=\"dataframe\">\n",
       "  <thead>\n",
       "    <tr style=\"text-align: right;\">\n",
       "      <th></th>\n",
       "      <th>rand_init</th>\n",
       "      <th>bagging</th>\n",
       "      <th>mc_dropout</th>\n",
       "      <th>variational_dropout</th>\n",
       "      <th>concrete_dropout</th>\n",
       "      <th>bayesian</th>\n",
       "      <th>batchensemble</th>\n",
       "    </tr>\n",
       "    <tr>\n",
       "      <th>dataset</th>\n",
       "      <th></th>\n",
       "      <th></th>\n",
       "      <th></th>\n",
       "      <th></th>\n",
       "      <th></th>\n",
       "      <th></th>\n",
       "      <th></th>\n",
       "    </tr>\n",
       "  </thead>\n",
       "  <tbody>\n",
       "    <tr>\n",
       "      <th>naval</th>\n",
       "      <td>0.00846</td>\n",
       "      <td>0.007982</td>\n",
       "      <td>0.008863</td>\n",
       "      <td>0.486014</td>\n",
       "      <td>0.043112</td>\n",
       "      <td>0.008581</td>\n",
       "      <td>0.008664</td>\n",
       "    </tr>\n",
       "  </tbody>\n",
       "</table>\n",
       "</div>"
      ],
      "text/plain": [
       "         rand_init   bagging  mc_dropout  variational_dropout  \\\n",
       "dataset                                                         \n",
       "naval      0.00846  0.007982    0.008863             0.486014   \n",
       "\n",
       "         concrete_dropout  bayesian  batchensemble  \n",
       "dataset                                             \n",
       "naval            0.043112  0.008581       0.008664  "
      ]
     },
     "execution_count": 42,
     "metadata": {},
     "output_type": "execute_result"
    }
   ],
   "source": [
    "drn_results_num"
   ]
  },
  {
   "cell_type": "code",
   "execution_count": null,
   "metadata": {},
   "outputs": [],
   "source": []
  }
 ],
 "metadata": {
  "kernelspec": {
   "display_name": "master_thesis",
   "language": "python",
   "name": "python3"
  },
  "language_info": {
   "codemirror_mode": {
    "name": "ipython",
    "version": 3
   },
   "file_extension": ".py",
   "mimetype": "text/x-python",
   "name": "python",
   "nbconvert_exporter": "python",
   "pygments_lexer": "ipython3",
   "version": "3.10.6"
  },
  "orig_nbformat": 4
 },
 "nbformat": 4,
 "nbformat_minor": 2
}
